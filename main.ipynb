{
 "cells": [
  {
   "cell_type": "code",
   "execution_count": 1,
   "metadata": {},
   "outputs": [],
   "source": [
    "from tqdm import tqdm\n",
    "import numpy as np\n",
    "import networkx as nx\n",
    "import matplotlib.pyplot as plt"
   ]
  },
  {
   "cell_type": "markdown",
   "metadata": {},
   "source": [
    "# Importing data from file"
   ]
  },
  {
   "cell_type": "code",
   "execution_count": 2,
   "metadata": {},
   "outputs": [],
   "source": [
    "# Read data from ./coauthorship/coauthorship_cond-mat/cond-mat.net\n",
    "A = np.zeros((16726,16726))\n",
    "with open(\"./coauthorship/coauthorship_cond-mat/cond-mat.net\", \"r\") as data_file:\n",
    "    for line in data_file.readlines():\n",
    "        i, j = [int(k) for k in line.split()]\n",
    "        A[i][j] = 1\n",
    "        A[j][i] = 1\n",
    "        \n",
    "D = np.zeros(A.shape)\n",
    "for i in range(A.shape[0]):\n",
    "    D[i][i] = np.sum(A[i])"
   ]
  },
  {
   "cell_type": "code",
   "execution_count": 3,
   "metadata": {},
   "outputs": [],
   "source": [
    "# Determining which nodes are in the largest component using DFS\n",
    "def connected_component(A, i): # A: adjacency matrix, i: node to find component\n",
    "    visited = []\n",
    "    S = []\n",
    "    S.append(i)\n",
    "    while(len(S) > 0):\n",
    "        v = S.pop()\n",
    "        print(len(visited))\n",
    "        if(v not in visited):\n",
    "            visited.append(v)\n",
    "            for d in range(A.shape[0]):\n",
    "                if(A[v][d] == 1):\n",
    "                    S.append(d)\n",
    "                \n",
    "    return visited\n",
    "\n",
    "# We can use NetworkX instead for speed.\n",
    "G = nx.convert_matrix.from_numpy_array(A)\n",
    "C_n = max(nx.connected_components(G))\n",
    "C = G.subgraph(max(nx.connected_components(G)))"
   ]
  },
  {
   "cell_type": "markdown",
   "metadata": {},
   "source": [
    "# Computing $L_i$ and its distribution\n",
    "\n",
    "Note that $\\displaystyle L_i=\\frac{1}{N-1}\\sum_{j\\ne i}d_{ij}$, where $d_{ij}$ is the distance between nodes $i$ and $j$.\n",
    "Futhermore, note that $\\displaystyle c_i = \\begin{cases}\\frac{K[G_i]}{k_i(k_i-1)/2} & k_i \\ge 2 \\\\ 0 & k_i = 0,1\\end{cases}$, where $K[G_i] = \\displaystyle \\frac{1}{2}(A^3)_{ii}$ and $k_i=D_{ii}$ is the degree of node $i$."
   ]
  },
  {
   "cell_type": "code",
   "execution_count": 4,
   "metadata": {},
   "outputs": [
    {
     "name": "stderr",
     "output_type": "stream",
     "text": [
      "100%|██████████| 13861/13861 [49:06<00:00,  4.70it/s]    \n"
     ]
    }
   ],
   "source": [
    "# Average path length\n",
    "L_i = dict([(k, np.average(list(nx.shortest_path_length(C,k).values()))) for k in tqdm(C_n)])\n",
    "\n",
    "# Save L_i values (25m to calculate)\n",
    "with open(\"./coauthorship/coauthorship_cond-mat/average-dist.txt\", \"w+\") as dist_file:\n",
    "    dist_file.write(str(L_i))\n",
    "    dist_file.close()"
   ]
  },
  {
   "cell_type": "code",
   "execution_count": 5,
   "metadata": {},
   "outputs": [],
   "source": [
    "# clustering\n",
    "c_i = nx.clustering(G)"
   ]
  },
  {
   "cell_type": "code",
   "execution_count": 6,
   "metadata": {},
   "outputs": [
    {
     "data": {
      "text/plain": [
       "(6.62735073477655, 0.6203627534751613)"
      ]
     },
     "execution_count": 6,
     "metadata": {},
     "output_type": "execute_result"
    }
   ],
   "source": [
    "# Calculate L = (1/N) ∑ L_i, the characteristic path length\n",
    "L = np.average(list(L_i.values()))\n",
    "\n",
    "# Calculate C = (1/N) ∑ c_i, the clustering coefficient of the graph\n",
    "C = np.average(list(c_i.values()))\n",
    "\n",
    "L, C"
   ]
  },
  {
   "cell_type": "code",
   "execution_count": 8,
   "metadata": {},
   "outputs": [
    {
     "data": {
      "image/png": "[encoded data removed]",
      "text/plain": [
       "<Figure size 432x288 with 1 Axes>"
      ]
     },
     "metadata": {
      "needs_background": "light"
     },
     "output_type": "display_data"
    }
   ],
   "source": [
    "%matplotlib inline\n",
    "# Plot L_i distribution as histogram.\n",
    "L_dist = plt.hist(L_i.values(), bins=np.linspace(0,10,101))\n",
    "plt.show()"
   ]
  },
  {
   "cell_type": "code",
   "execution_count": null,
   "metadata": {},
   "outputs": [],
   "source": []
  }
 ],
 "metadata": {
  "kernelspec": {
   "display_name": "Python 3",
   "language": "python",
   "name": "python3"
  },
  "language_info": {
   "codemirror_mode": {
    "name": "ipython",
    "version": 3
   },
   "file_extension": ".py",
   "mimetype": "text/x-python",
   "name": "python",
   "nbconvert_exporter": "python",
   "pygments_lexer": "ipython3",
   "version": "3.7.3"
  }
 },
 "nbformat": 4,
 "nbformat_minor": 4
}
